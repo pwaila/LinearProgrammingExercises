{
  "nbformat": 4,
  "nbformat_minor": 0,
  "metadata": {
    "colab": {
      "name": "Linear_programming2",
      "provenance": [],
      "include_colab_link": true
    },
    "kernelspec": {
      "name": "python3",
      "display_name": "Python 3"
    }
  },
  "cells": [
    {
      "cell_type": "markdown",
      "metadata": {
        "id": "view-in-github",
        "colab_type": "text"
      },
      "source": [
        "<a href=\"https://colab.research.google.com/github/pwaila/LinearProgrammingExercises/blob/master/Linear_programming2.ipynb\" target=\"_parent\"><img src=\"https://colab.research.google.com/assets/colab-badge.svg\" alt=\"Open In Colab\"/></a>"
      ]
    },
    {
      "cell_type": "code",
      "metadata": {
        "id": "GTHXN1vxCqSz",
        "colab_type": "code",
        "colab": {
          "base_uri": "https://localhost:8080/",
          "height": 85
        },
        "outputId": "50c9548a-57d6-4571-e35c-0e1cef9ed730"
      },
      "source": [
        "!pip install --upgrade --user ortools"
      ],
      "execution_count": 1,
      "outputs": [
        {
          "output_type": "stream",
          "text": [
            "Requirement already up-to-date: ortools in /usr/local/lib/python3.6/dist-packages (7.4.7247)\n",
            "Requirement already satisfied, skipping upgrade: protobuf>=3.10.0 in /usr/local/lib/python3.6/dist-packages (from ortools) (3.10.0)\n",
            "Requirement already satisfied, skipping upgrade: six>=1.10 in /usr/local/lib/python3.6/dist-packages (from ortools) (1.12.0)\n",
            "Requirement already satisfied, skipping upgrade: setuptools in /usr/local/lib/python3.6/dist-packages (from protobuf>=3.10.0->ortools) (41.4.0)\n"
          ],
          "name": "stdout"
        }
      ]
    },
    {
      "cell_type": "markdown",
      "metadata": {
        "id": "TuTN5ih7C_MV",
        "colab_type": "text"
      },
      "source": [
        "**Question :**\n",
        "An advertisement company wishes to plan an advertising campaign in three different media - television, radio and magazines. The purpose of advertisemet program is to reach as many potential customers as possible. Results of a market study are as follows.\n",
        "\n",
        "\n"
      ]
    },
    {
      "cell_type": "code",
      "metadata": {
        "id": "9P_nxBAWCrTS",
        "colab_type": "code",
        "colab": {}
      },
      "source": [
        "from __future__ import print_function\n",
        "from ortools.linear_solver import pywraplp"
      ],
      "execution_count": 0,
      "outputs": []
    },
    {
      "cell_type": "code",
      "metadata": {
        "id": "bG8p2XSKDG9R",
        "colab_type": "code",
        "colab": {}
      },
      "source": [
        "#define solver\n",
        "solver = pywraplp.Solver('ProgrammingExample',pywraplp.Solver.GLOP_LINEAR_PROGRAMMING)"
      ],
      "execution_count": 0,
      "outputs": []
    },
    {
      "cell_type": "code",
      "metadata": {
        "id": "hvic7LpnDLAN",
        "colab_type": "code",
        "colab": {}
      },
      "source": [
        "\n",
        "# Create the three variables and let them take on any non-negative value.\n",
        "x1 = solver.NumVar(3, solver.infinity(), 'x1')\n",
        "x2 = solver.NumVar(2, solver.infinity(), 'x2')\n",
        "x3 = solver.NumVar(5, 10, 'x3')\n",
        "x4 = solver.NumVar(5, 10, 'x4')\n"
      ],
      "execution_count": 0,
      "outputs": []
    },
    {
      "cell_type": "code",
      "metadata": {
        "id": "bRd63a3TGHrb",
        "colab_type": "code",
        "colab": {}
      },
      "source": [
        "#constraints\n",
        "# Constraint 0: 40000x1 + 75000x2 + 30000x3 + 15000x4 <= 800000\n",
        "constraint0 = solver.Constraint(-solver.infinity(), 800000)\n",
        "constraint0.SetCoefficient(x1, 40000)\n",
        "constraint0.SetCoefficient(x2, 75000)\n",
        "constraint0.SetCoefficient(x3, 30000)\n",
        "constraint0.SetCoefficient(x4, 15000)"
      ],
      "execution_count": 0,
      "outputs": []
    },
    {
      "cell_type": "code",
      "metadata": {
        "id": "ERLuzUUXGnsS",
        "colab_type": "code",
        "colab": {}
      },
      "source": [
        "#constraints\n",
        "# Constraint 1: 300000x1 + 400000x2 + 200000x3 + 100000x4 >= 2000000\n",
        "constraint1 = solver.Constraint(2000000, solver.infinity())\n",
        "constraint1.SetCoefficient(x1, 300000)\n",
        "constraint1.SetCoefficient(x2, 400000)\n",
        "constraint1.SetCoefficient(x3, 200000)\n",
        "constraint1.SetCoefficient(x4, 100000)"
      ],
      "execution_count": 0,
      "outputs": []
    },
    {
      "cell_type": "code",
      "metadata": {
        "id": "rySwXLZiOtzy",
        "colab_type": "code",
        "colab": {}
      },
      "source": [
        "#constraints\n",
        "# Constraint 2: 40000x1 + 75000x2 <= 500000\n",
        "constraint2 = solver.Constraint(- solver.infinity(),500000)\n",
        "constraint2.SetCoefficient(x1, 40000)\n",
        "constraint2.SetCoefficient(x2, 75000)"
      ],
      "execution_count": 0,
      "outputs": []
    },
    {
      "cell_type": "code",
      "metadata": {
        "id": "BpzFsB4XOnYs",
        "colab_type": "code",
        "colab": {}
      },
      "source": [
        "# Objective function: 300x1 + 250x2 + 200x3.\n",
        "objective = solver.Objective()\n",
        "objective.SetCoefficient(x1, 400000)\n",
        "objective.SetCoefficient(x2, 900000)\n",
        "objective.SetCoefficient(x3, 500000)\n",
        "objective.SetCoefficient(x4, 200000)\n",
        "objective.SetMaximization()\n"
      ],
      "execution_count": 0,
      "outputs": []
    },
    {
      "cell_type": "code",
      "metadata": {
        "id": "Ym3k0hjjZLEl",
        "colab_type": "code",
        "colab": {
          "base_uri": "https://localhost:8080/",
          "height": 34
        },
        "outputId": "72514822-3e63-442f-882d-daa3e4646426"
      },
      "source": [
        "solver.Solve()"
      ],
      "execution_count": 13,
      "outputs": [
        {
          "output_type": "execute_result",
          "data": {
            "text/plain": [
              "0"
            ]
          },
          "metadata": {
            "tags": []
          },
          "execution_count": 13
        }
      ]
    },
    {
      "cell_type": "code",
      "metadata": {
        "id": "5kakernqZPIY",
        "colab_type": "code",
        "colab": {
          "base_uri": "https://localhost:8080/",
          "height": 153
        },
        "outputId": "3230feaa-7558-4644-8f50-268e6fcfe4c7"
      },
      "source": [
        "# print_solution\n",
        "\n",
        "opt_solution = 400000 * x1.solution_value() + 900000 * x2.solution_value() + 500000 * x3.solution_value()+ 200000 * x4.solution_value()\n",
        "print('Number of variables =', solver.NumVariables())\n",
        "print('Number of constraints =', solver.NumConstraints())\n",
        "# The value of each variable in the solution.\n",
        "print('Solution:')\n",
        "print('x1 = ', x1.solution_value())\n",
        "print('x2 = ', x2.solution_value())\n",
        "print('x3 = ', x3.solution_value())\n",
        "print('x4 = ', x4.solution_value())\n",
        "# The objective value of the solution.\n",
        "print('Optimal objective value =', opt_solution)"
      ],
      "execution_count": 14,
      "outputs": [
        {
          "output_type": "stream",
          "text": [
            "Number of variables = 8\n",
            "Number of constraints = 6\n",
            "Solution:\n",
            "x1 =  3.0\n",
            "x2 =  3.0666666666666673\n",
            "x3 =  10.0\n",
            "x4 =  10.0\n",
            "Optimal objective value = 10960000.0\n"
          ],
          "name": "stdout"
        }
      ]
    }
  ]
}