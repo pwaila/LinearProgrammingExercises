{
  "nbformat": 4,
  "nbformat_minor": 0,
  "metadata": {
    "colab": {
      "name": "Linear Programming 1.ipynb",
      "provenance": [],
      "collapsed_sections": [],
      "include_colab_link": true
    },
    "kernelspec": {
      "name": "python3",
      "display_name": "Python 3"
    }
  },
  "cells": [
    {
      "cell_type": "markdown",
      "metadata": {
        "id": "view-in-github",
        "colab_type": "text"
      },
      "source": [
        "<a href=\"https://colab.research.google.com/github/pwaila/LinearProgrammingExercises/blob/master/Linear_Programming_1.ipynb\" target=\"_parent\"><img src=\"https://colab.research.google.com/assets/colab-badge.svg\" alt=\"Open In Colab\"/></a>"
      ]
    },
    {
      "cell_type": "code",
      "metadata": {
        "id": "n5NTANoBxj_d",
        "colab_type": "code",
        "colab": {
          "base_uri": "https://localhost:8080/",
          "height": 85
        },
        "outputId": "fa33a6cb-e5f8-437f-f129-3672b11f1e62"
      },
      "source": [
        "!pip install --upgrade --user ortools"
      ],
      "execution_count": 1,
      "outputs": [
        {
          "output_type": "stream",
          "text": [
            "Requirement already up-to-date: ortools in /usr/local/lib/python3.6/dist-packages (7.4.7247)\n",
            "Requirement already satisfied, skipping upgrade: protobuf>=3.10.0 in /usr/local/lib/python3.6/dist-packages (from ortools) (3.10.0)\n",
            "Requirement already satisfied, skipping upgrade: six>=1.10 in /usr/local/lib/python3.6/dist-packages (from ortools) (1.12.0)\n",
            "Requirement already satisfied, skipping upgrade: setuptools in /usr/local/lib/python3.6/dist-packages (from protobuf>=3.10.0->ortools) (41.4.0)\n"
          ],
          "name": "stdout"
        }
      ]
    },
    {
      "cell_type": "markdown",
      "metadata": {
        "id": "_7nph_uV62ne",
        "colab_type": "text"
      },
      "source": [
        "\n",
        "## **Question **\n",
        "\n",
        "```\n",
        "The mighty silver call company manufactyres three kinds of pin ball machines, each requiring a different manufecturing techniques.\n",
        "\n",
        "```\n",
        "---\n",
        "\n",
        "```\n",
        "\n",
        "The super delux machine requires 17 hour of labor, 8 hours of testing and yield a profit of $300.\n",
        "\n",
        "The silver ball machine requires 14 hour of labor, 12 hours of testing and yield a profit of $250.\n",
        "\n",
        "The bumper king machine requires 10 hour of labor, 15 hours of testing and yield a profit of $200.\n",
        "\n",
        "\n",
        "There are 1000 hours of labor and 500 hours of testing available.\n",
        "\n",
        "In addition a marketing forecast has shown that the demand for super delux is no more than 2 machines, demand for silver ball is no more than 50 and for bumper king is no more than 100.\n",
        "\n",
        "Manufacturar want to determine the optimal production quantity that will maximize the total profit.\n",
        "\n",
        "```\n"
      ]
    },
    {
      "cell_type": "code",
      "metadata": {
        "id": "uUzqILTpx2FE",
        "colab_type": "code",
        "colab": {}
      },
      "source": [
        "from __future__ import print_function\n",
        "from ortools.linear_solver import pywraplp"
      ],
      "execution_count": 0,
      "outputs": []
    },
    {
      "cell_type": "code",
      "metadata": {
        "id": "F89YkC2o_D-v",
        "colab_type": "code",
        "colab": {}
      },
      "source": [
        "#define solver\n",
        "solver = pywraplp.Solver('ProgrammingExample',pywraplp.Solver.GLOP_LINEAR_PROGRAMMING)\n",
        "\n"
      ],
      "execution_count": 0,
      "outputs": []
    },
    {
      "cell_type": "code",
      "metadata": {
        "id": "Hr-284vV_FsP",
        "colab_type": "code",
        "colab": {}
      },
      "source": [
        "\n",
        "# Create the three variables and let them take on any non-negative value.\n",
        "x1 = solver.NumVar(0, solver.infinity(), 'x1')\n",
        "x2 = solver.NumVar(0, solver.infinity(), 'x2')\n",
        "x3 = solver.NumVar(0, solver.infinity(), 'x3')\n"
      ],
      "execution_count": 0,
      "outputs": []
    },
    {
      "cell_type": "code",
      "metadata": {
        "id": "t6jxMhIR_HhH",
        "colab_type": "code",
        "colab": {}
      },
      "source": [
        "#constraints\n",
        "# Constraint 0: 17x1 + 14x2 + 10x3 <=1000\n",
        "constraint0 = solver.Constraint(-solver.infinity(), 1000)\n",
        "constraint0.SetCoefficient(x1, 17)\n",
        "constraint0.SetCoefficient(x2, 14)\n",
        "constraint0.SetCoefficient(x3, 10)\n"
      ],
      "execution_count": 0,
      "outputs": []
    },
    {
      "cell_type": "code",
      "metadata": {
        "id": "1-lfCl_y_L4A",
        "colab_type": "code",
        "colab": {}
      },
      "source": [
        "\n",
        "# Constraint 1: 8x1 + 12x2 + 15x3 <= 500.\n",
        "constraint1 = solver.Constraint(-solver.infinity(),500)\n",
        "constraint1.SetCoefficient(x1, 8)\n",
        "constraint1.SetCoefficient(x2, 12)\n",
        "constraint1.SetCoefficient(x3, 15)\n"
      ],
      "execution_count": 0,
      "outputs": []
    },
    {
      "cell_type": "code",
      "metadata": {
        "id": "jUzfk_CT_PLm",
        "colab_type": "code",
        "colab": {}
      },
      "source": [
        "# Constraint 2: x1 <=25\n",
        "constraint2 = solver.Constraint(0, 25)\n",
        "constraint2.SetCoefficient(x1, 1)\n"
      ],
      "execution_count": 0,
      "outputs": []
    },
    {
      "cell_type": "code",
      "metadata": {
        "id": "S7oglYuR_Q_I",
        "colab_type": "code",
        "colab": {}
      },
      "source": [
        "# Constraint 3: x2 <=50\n",
        "constraint3 = solver.Constraint(0, 50)\n",
        "constraint3.SetCoefficient(x2, 1)\n"
      ],
      "execution_count": 0,
      "outputs": []
    },
    {
      "cell_type": "code",
      "metadata": {
        "id": "3i5rpQoc_UED",
        "colab_type": "code",
        "colab": {}
      },
      "source": [
        "\n",
        "# Constraint 4: x3 <=100\n",
        "constraint4 = solver.Constraint(0, 100)\n",
        "constraint4.SetCoefficient(x3, 1)\n"
      ],
      "execution_count": 0,
      "outputs": []
    },
    {
      "cell_type": "code",
      "metadata": {
        "id": "3nYCHDT8_WDA",
        "colab_type": "code",
        "colab": {}
      },
      "source": [
        "# Objective function: 300x1 + 250x2 + 200x3.\n",
        "objective = solver.Objective()\n",
        "objective.SetCoefficient(x1, 300)\n",
        "objective.SetCoefficient(x2, 250)\n",
        "objective.SetCoefficient(x3, 200)\n",
        "objective.SetMaximization()\n"
      ],
      "execution_count": 0,
      "outputs": []
    },
    {
      "cell_type": "code",
      "metadata": {
        "id": "8Evz5bzz_YVT",
        "colab_type": "code",
        "colab": {
          "base_uri": "https://localhost:8080/",
          "height": 34
        },
        "outputId": "32fe4ccc-18b9-4f5e-aa2a-107e5e543e4c"
      },
      "source": [
        "# Solve the system.\n",
        "\n",
        "solver.Solve()\n"
      ],
      "execution_count": 27,
      "outputs": [
        {
          "output_type": "execute_result",
          "data": {
            "text/plain": [
              "0"
            ]
          },
          "metadata": {
            "tags": []
          },
          "execution_count": 27
        }
      ]
    },
    {
      "cell_type": "code",
      "metadata": {
        "id": "89hLSva2yCax",
        "colab_type": "code",
        "colab": {
          "base_uri": "https://localhost:8080/",
          "height": 136
        },
        "outputId": "b5b1189d-0db1-4b0d-ce93-9cb6c55c7ba8"
      },
      "source": [
        "# print_solution\n",
        "\n",
        "opt_solution = 300 * x1.solution_value() + 250 * x2.solution_value() + 200 * x3.solution_value()\n",
        "print('Number of variables =', solver.NumVariables())\n",
        "print('Number of constraints =', solver.NumConstraints())\n",
        "# The value of each variable in the solution.\n",
        "print('Solution:')\n",
        "print('x1 = ', x1.solution_value())\n",
        "print('x2 = ', x2.solution_value())\n",
        "print('x3 = ', x3.solution_value())\n",
        "# The objective value of the solution.\n",
        "print('Optimal objective value =', opt_solution)\n"
      ],
      "execution_count": 28,
      "outputs": [
        {
          "output_type": "stream",
          "text": [
            "Number of variables = 3\n",
            "Number of constraints = 5\n",
            "Solution:\n",
            "x1 =  25.0\n",
            "x2 =  25.000000000000007\n",
            "x3 =  0.0\n",
            "Optimal objective value = 13750.000000000002\n"
          ],
          "name": "stdout"
        }
      ]
    }
  ]
}